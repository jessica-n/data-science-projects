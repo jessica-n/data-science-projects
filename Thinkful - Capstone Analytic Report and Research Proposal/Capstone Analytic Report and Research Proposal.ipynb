{
 "cells": [
  {
   "cell_type": "markdown",
   "metadata": {},
   "source": [
    "# What's your (Pokemon) type?\n",
    "__by Jessica Ngo\n",
    "<br>March 2018__\n",
    "## Pokemon Data Exploration\n",
    "### Data\n",
    "\n",
    "This dataset includes 721 Pokemon, including their number, name, first and second type, and base stats: HP, Attack, Defense, Special Attack, Special Defense, and Speed. \n",
    "\n",
    "These base stats are the raw attributes that define the average strengths of a given Pokemon. Also note that this dataset is about the Pokemon games (not pokemon cards or Pokemon Go).\n",
    "\n",
    "The data has been acquired from several different sites, including pokemon.com, pokemondb.net, and bulbapedia.com."
   ]
  },
  {
   "cell_type": "code",
   "execution_count": 1,
   "metadata": {},
   "outputs": [],
   "source": [
    "import pandas as pd\n",
    "import numpy as np\n",
    "import matplotlib.pyplot as plt\n",
    "import seaborn as sns\n",
    "import scipy.stats as stats\n",
    "%matplotlib inline\n",
    "\n",
    "plt.rcParams['figure.figsize'] = (20.0, 10.0)\n",
    "plt.rcParams.update({'font.size': 22})"
   ]
  },
  {
   "cell_type": "code",
   "execution_count": 2,
   "metadata": {},
   "outputs": [],
   "source": [
    "#import dataframe\n",
    "df = pd.read_csv(\"Pokemon.csv\")"
   ]
  },
  {
   "cell_type": "code",
   "execution_count": 3,
   "metadata": {},
   "outputs": [
    {
     "data": {
      "text/plain": [
       "Index(['#', 'Name', 'Type 1', 'Type 2', 'Total', 'HP', 'Attack', 'Defense',\n",
       "       'Sp. Atk', 'Sp. Def', 'Speed', 'Generation', 'Legendary'],\n",
       "      dtype='object')"
      ]
     },
     "execution_count": 3,
     "metadata": {},
     "output_type": "execute_result"
    }
   ],
   "source": [
    "#view column names\n",
    "df.columns"
   ]
  },
  {
   "cell_type": "code",
   "execution_count": 4,
   "metadata": {},
   "outputs": [
    {
     "data": {
      "text/html": [
       "<div>\n",
       "<style scoped>\n",
       "    .dataframe tbody tr th:only-of-type {\n",
       "        vertical-align: middle;\n",
       "    }\n",
       "\n",
       "    .dataframe tbody tr th {\n",
       "        vertical-align: top;\n",
       "    }\n",
       "\n",
       "    .dataframe thead th {\n",
       "        text-align: right;\n",
       "    }\n",
       "</style>\n",
       "<table border=\"1\" class=\"dataframe\">\n",
       "  <thead>\n",
       "    <tr style=\"text-align: right;\">\n",
       "      <th></th>\n",
       "      <th>#</th>\n",
       "      <th>Name</th>\n",
       "      <th>Type 1</th>\n",
       "      <th>Type 2</th>\n",
       "      <th>Total</th>\n",
       "      <th>HP</th>\n",
       "      <th>Attack</th>\n",
       "      <th>Defense</th>\n",
       "      <th>Sp. Atk</th>\n",
       "      <th>Sp. Def</th>\n",
       "      <th>Speed</th>\n",
       "      <th>Generation</th>\n",
       "      <th>Legendary</th>\n",
       "    </tr>\n",
       "  </thead>\n",
       "  <tbody>\n",
       "    <tr>\n",
       "      <th>0</th>\n",
       "      <td>1</td>\n",
       "      <td>Bulbasaur</td>\n",
       "      <td>Grass</td>\n",
       "      <td>Poison</td>\n",
       "      <td>318</td>\n",
       "      <td>45</td>\n",
       "      <td>49</td>\n",
       "      <td>49</td>\n",
       "      <td>65</td>\n",
       "      <td>65</td>\n",
       "      <td>45</td>\n",
       "      <td>1</td>\n",
       "      <td>False</td>\n",
       "    </tr>\n",
       "    <tr>\n",
       "      <th>1</th>\n",
       "      <td>2</td>\n",
       "      <td>Ivysaur</td>\n",
       "      <td>Grass</td>\n",
       "      <td>Poison</td>\n",
       "      <td>405</td>\n",
       "      <td>60</td>\n",
       "      <td>62</td>\n",
       "      <td>63</td>\n",
       "      <td>80</td>\n",
       "      <td>80</td>\n",
       "      <td>60</td>\n",
       "      <td>1</td>\n",
       "      <td>False</td>\n",
       "    </tr>\n",
       "    <tr>\n",
       "      <th>2</th>\n",
       "      <td>3</td>\n",
       "      <td>Venusaur</td>\n",
       "      <td>Grass</td>\n",
       "      <td>Poison</td>\n",
       "      <td>525</td>\n",
       "      <td>80</td>\n",
       "      <td>82</td>\n",
       "      <td>83</td>\n",
       "      <td>100</td>\n",
       "      <td>100</td>\n",
       "      <td>80</td>\n",
       "      <td>1</td>\n",
       "      <td>False</td>\n",
       "    </tr>\n",
       "    <tr>\n",
       "      <th>3</th>\n",
       "      <td>3</td>\n",
       "      <td>VenusaurMega Venusaur</td>\n",
       "      <td>Grass</td>\n",
       "      <td>Poison</td>\n",
       "      <td>625</td>\n",
       "      <td>80</td>\n",
       "      <td>100</td>\n",
       "      <td>123</td>\n",
       "      <td>122</td>\n",
       "      <td>120</td>\n",
       "      <td>80</td>\n",
       "      <td>1</td>\n",
       "      <td>False</td>\n",
       "    </tr>\n",
       "    <tr>\n",
       "      <th>4</th>\n",
       "      <td>4</td>\n",
       "      <td>Charmander</td>\n",
       "      <td>Fire</td>\n",
       "      <td>NaN</td>\n",
       "      <td>309</td>\n",
       "      <td>39</td>\n",
       "      <td>52</td>\n",
       "      <td>43</td>\n",
       "      <td>60</td>\n",
       "      <td>50</td>\n",
       "      <td>65</td>\n",
       "      <td>1</td>\n",
       "      <td>False</td>\n",
       "    </tr>\n",
       "  </tbody>\n",
       "</table>\n",
       "</div>"
      ],
      "text/plain": [
       "   #                   Name Type 1  Type 2  Total  HP  Attack  Defense  \\\n",
       "0  1              Bulbasaur  Grass  Poison    318  45      49       49   \n",
       "1  2                Ivysaur  Grass  Poison    405  60      62       63   \n",
       "2  3               Venusaur  Grass  Poison    525  80      82       83   \n",
       "3  3  VenusaurMega Venusaur  Grass  Poison    625  80     100      123   \n",
       "4  4             Charmander   Fire     NaN    309  39      52       43   \n",
       "\n",
       "   Sp. Atk  Sp. Def  Speed  Generation  Legendary  \n",
       "0       65       65     45           1      False  \n",
       "1       80       80     60           1      False  \n",
       "2      100      100     80           1      False  \n",
       "3      122      120     80           1      False  \n",
       "4       60       50     65           1      False  "
      ]
     },
     "execution_count": 4,
     "metadata": {},
     "output_type": "execute_result"
    }
   ],
   "source": [
    "#view first 5 lines\n",
    "df.head()"
   ]
  },
  {
   "cell_type": "markdown",
   "metadata": {},
   "source": [
    "The base stats as described by Myles O'Neill, from Kaggle, is:\n",
    "<br>\n",
    "#: ID for each pokemon\n",
    "<br>Name: Name of each Pokemon\n",
    "<br>Type 1: Each Pokemon has a type that determines weakness/resistance to attacks\n",
    "<br>Type 2: Some pokemon are dual type and therefore have a second type\n",
    "<br>Total: sum of all stats that come after this, a general indicator of how strong a Pokemon is\n",
    "<br>HP: hit points, or health, defines how much damage a pokemon can withstand before fainting\n",
    "<br>Attack: the base modifier for normal attacks (eg. Scratch, Punch)\n",
    "<br>Defense: the base damage resistance against normal attacks\n",
    "<br>SP Atk: special attack, the base modifier for special attacks (e.g. fire blast, bubble beam)\n",
    "<br>SP Def: the base damage resistance against special attacks\n",
    "<br>Speed: determines which pokemon attacks first each round"
   ]
  },
  {
   "cell_type": "markdown",
   "metadata": {},
   "source": [
    "Challenges to this dataset involve duplicate numbers under '#' (e.g. # 3 Venusaur and VenusaurMegaVenusaur). These duplicates correspond to Mega Evolutions or stronger, different versions of the same Pokemon. In addition, not every Pokemon will have a dual type (e.g. # 4 Charmander). For our purposes, we will only be focusing on looking at Type 1."
   ]
  },
  {
   "cell_type": "markdown",
   "metadata": {},
   "source": [
    "## Analytic Questions\n",
    "### 1) How many Pokemon are in each Pokemon type? How many Pokemon are in each Generation?\n",
    "\n",
    "We are starting with a question regarding the frequency of each Pokemon type."
   ]
  },
  {
   "cell_type": "code",
   "execution_count": 5,
   "metadata": {},
   "outputs": [
    {
     "data": {
      "text/plain": [
       "800"
      ]
     },
     "execution_count": 5,
     "metadata": {},
     "output_type": "execute_result"
    }
   ],
   "source": [
    "#count of Pokemon by Name\n",
    "len(df['Name'])"
   ]
  },
  {
   "cell_type": "markdown",
   "metadata": {},
   "source": [
    "There are 800 Pokemon total, including Mega Evolutions."
   ]
  },
  {
   "cell_type": "code",
   "execution_count": 6,
   "metadata": {},
   "outputs": [
    {
     "data": {
      "text/plain": [
       "721"
      ]
     },
     "execution_count": 6,
     "metadata": {},
     "output_type": "execute_result"
    }
   ],
   "source": [
    "df['#'].nunique()"
   ]
  },
  {
   "cell_type": "markdown",
   "metadata": {},
   "source": [
    "There are 721 Pokemon total if you exclude the Mega Evolutions."
   ]
  },
  {
   "cell_type": "code",
   "execution_count": 7,
   "metadata": {},
   "outputs": [
    {
     "data": {
      "image/png": "[encoded data removed]",
      "text/plain": [
       "<matplotlib.figure.Figure at 0x1a0d892668>"
      ]
     },
     "metadata": {},
     "output_type": "display_data"
    }
   ],
   "source": [
    "#bar chart of Pokemon by Type 1\n",
    "#df['Type 1'].value_counts().plot(kind='bar')\n",
    "sns.countplot(x='Type 1', data=df)\n",
    "plt.xticks(rotation = 90)\n",
    "plt.show()"
   ]
  },
  {
   "cell_type": "markdown",
   "metadata": {},
   "source": [
    "The majority of Pokemon tend to be water types, while the minority tend to be flying. Does this differ by generation?"
   ]
  },
  {
   "cell_type": "code",
   "execution_count": 8,
   "metadata": {},
   "outputs": [
    {
     "data": {
      "text/html": [
       "<div>\n",
       "<style scoped>\n",
       "    .dataframe tbody tr th:only-of-type {\n",
       "        vertical-align: middle;\n",
       "    }\n",
       "\n",
       "    .dataframe tbody tr th {\n",
       "        vertical-align: top;\n",
       "    }\n",
       "\n",
       "    .dataframe thead th {\n",
       "        text-align: right;\n",
       "    }\n",
       "</style>\n",
       "<table border=\"1\" class=\"dataframe\">\n",
       "  <thead>\n",
       "    <tr style=\"text-align: right;\">\n",
       "      <th>Type 1</th>\n",
       "      <th>Bug</th>\n",
       "      <th>Dark</th>\n",
       "      <th>Dragon</th>\n",
       "      <th>Electric</th>\n",
       "      <th>Fairy</th>\n",
       "      <th>Fighting</th>\n",
       "      <th>Fire</th>\n",
       "      <th>Flying</th>\n",
       "      <th>Ghost</th>\n",
       "      <th>Grass</th>\n",
       "      <th>Ground</th>\n",
       "      <th>Ice</th>\n",
       "      <th>Normal</th>\n",
       "      <th>Poison</th>\n",
       "      <th>Psychic</th>\n",
       "      <th>Rock</th>\n",
       "      <th>Steel</th>\n",
       "      <th>Water</th>\n",
       "      <th>All</th>\n",
       "    </tr>\n",
       "    <tr>\n",
       "      <th>Generation</th>\n",
       "      <th></th>\n",
       "      <th></th>\n",
       "      <th></th>\n",
       "      <th></th>\n",
       "      <th></th>\n",
       "      <th></th>\n",
       "      <th></th>\n",
       "      <th></th>\n",
       "      <th></th>\n",
       "      <th></th>\n",
       "      <th></th>\n",
       "      <th></th>\n",
       "      <th></th>\n",
       "      <th></th>\n",
       "      <th></th>\n",
       "      <th></th>\n",
       "      <th></th>\n",
       "      <th></th>\n",
       "      <th></th>\n",
       "    </tr>\n",
       "  </thead>\n",
       "  <tbody>\n",
       "    <tr>\n",
       "      <th>1</th>\n",
       "      <td>14</td>\n",
       "      <td>0</td>\n",
       "      <td>3</td>\n",
       "      <td>9</td>\n",
       "      <td>2</td>\n",
       "      <td>7</td>\n",
       "      <td>14</td>\n",
       "      <td>0</td>\n",
       "      <td>4</td>\n",
       "      <td>13</td>\n",
       "      <td>8</td>\n",
       "      <td>2</td>\n",
       "      <td>24</td>\n",
       "      <td>14</td>\n",
       "      <td>11</td>\n",
       "      <td>10</td>\n",
       "      <td>0</td>\n",
       "      <td>31</td>\n",
       "      <td>166</td>\n",
       "    </tr>\n",
       "    <tr>\n",
       "      <th>2</th>\n",
       "      <td>12</td>\n",
       "      <td>6</td>\n",
       "      <td>0</td>\n",
       "      <td>7</td>\n",
       "      <td>5</td>\n",
       "      <td>2</td>\n",
       "      <td>8</td>\n",
       "      <td>0</td>\n",
       "      <td>1</td>\n",
       "      <td>9</td>\n",
       "      <td>3</td>\n",
       "      <td>4</td>\n",
       "      <td>15</td>\n",
       "      <td>1</td>\n",
       "      <td>7</td>\n",
       "      <td>5</td>\n",
       "      <td>3</td>\n",
       "      <td>18</td>\n",
       "      <td>106</td>\n",
       "    </tr>\n",
       "    <tr>\n",
       "      <th>3</th>\n",
       "      <td>12</td>\n",
       "      <td>6</td>\n",
       "      <td>12</td>\n",
       "      <td>5</td>\n",
       "      <td>0</td>\n",
       "      <td>5</td>\n",
       "      <td>8</td>\n",
       "      <td>0</td>\n",
       "      <td>5</td>\n",
       "      <td>13</td>\n",
       "      <td>7</td>\n",
       "      <td>7</td>\n",
       "      <td>18</td>\n",
       "      <td>3</td>\n",
       "      <td>12</td>\n",
       "      <td>8</td>\n",
       "      <td>12</td>\n",
       "      <td>27</td>\n",
       "      <td>160</td>\n",
       "    </tr>\n",
       "    <tr>\n",
       "      <th>4</th>\n",
       "      <td>10</td>\n",
       "      <td>3</td>\n",
       "      <td>4</td>\n",
       "      <td>12</td>\n",
       "      <td>1</td>\n",
       "      <td>3</td>\n",
       "      <td>5</td>\n",
       "      <td>0</td>\n",
       "      <td>7</td>\n",
       "      <td>15</td>\n",
       "      <td>4</td>\n",
       "      <td>3</td>\n",
       "      <td>18</td>\n",
       "      <td>6</td>\n",
       "      <td>8</td>\n",
       "      <td>6</td>\n",
       "      <td>3</td>\n",
       "      <td>13</td>\n",
       "      <td>121</td>\n",
       "    </tr>\n",
       "    <tr>\n",
       "      <th>5</th>\n",
       "      <td>18</td>\n",
       "      <td>13</td>\n",
       "      <td>9</td>\n",
       "      <td>8</td>\n",
       "      <td>0</td>\n",
       "      <td>7</td>\n",
       "      <td>9</td>\n",
       "      <td>2</td>\n",
       "      <td>5</td>\n",
       "      <td>15</td>\n",
       "      <td>10</td>\n",
       "      <td>6</td>\n",
       "      <td>19</td>\n",
       "      <td>2</td>\n",
       "      <td>14</td>\n",
       "      <td>6</td>\n",
       "      <td>4</td>\n",
       "      <td>18</td>\n",
       "      <td>165</td>\n",
       "    </tr>\n",
       "    <tr>\n",
       "      <th>6</th>\n",
       "      <td>3</td>\n",
       "      <td>3</td>\n",
       "      <td>4</td>\n",
       "      <td>3</td>\n",
       "      <td>9</td>\n",
       "      <td>3</td>\n",
       "      <td>8</td>\n",
       "      <td>2</td>\n",
       "      <td>10</td>\n",
       "      <td>5</td>\n",
       "      <td>0</td>\n",
       "      <td>2</td>\n",
       "      <td>4</td>\n",
       "      <td>2</td>\n",
       "      <td>5</td>\n",
       "      <td>9</td>\n",
       "      <td>5</td>\n",
       "      <td>5</td>\n",
       "      <td>82</td>\n",
       "    </tr>\n",
       "    <tr>\n",
       "      <th>All</th>\n",
       "      <td>69</td>\n",
       "      <td>31</td>\n",
       "      <td>32</td>\n",
       "      <td>44</td>\n",
       "      <td>17</td>\n",
       "      <td>27</td>\n",
       "      <td>52</td>\n",
       "      <td>4</td>\n",
       "      <td>32</td>\n",
       "      <td>70</td>\n",
       "      <td>32</td>\n",
       "      <td>24</td>\n",
       "      <td>98</td>\n",
       "      <td>28</td>\n",
       "      <td>57</td>\n",
       "      <td>44</td>\n",
       "      <td>27</td>\n",
       "      <td>112</td>\n",
       "      <td>800</td>\n",
       "    </tr>\n",
       "  </tbody>\n",
       "</table>\n",
       "</div>"
      ],
      "text/plain": [
       "Type 1      Bug  Dark  Dragon  Electric  Fairy  Fighting  Fire  Flying  Ghost  \\\n",
       "Generation                                                                      \n",
       "1            14     0       3         9      2         7    14       0      4   \n",
       "2            12     6       0         7      5         2     8       0      1   \n",
       "3            12     6      12         5      0         5     8       0      5   \n",
       "4            10     3       4        12      1         3     5       0      7   \n",
       "5            18    13       9         8      0         7     9       2      5   \n",
       "6             3     3       4         3      9         3     8       2     10   \n",
       "All          69    31      32        44     17        27    52       4     32   \n",
       "\n",
       "Type 1      Grass  Ground  Ice  Normal  Poison  Psychic  Rock  Steel  Water  \\\n",
       "Generation                                                                    \n",
       "1              13       8    2      24      14       11    10      0     31   \n",
       "2               9       3    4      15       1        7     5      3     18   \n",
       "3              13       7    7      18       3       12     8     12     27   \n",
       "4              15       4    3      18       6        8     6      3     13   \n",
       "5              15      10    6      19       2       14     6      4     18   \n",
       "6               5       0    2       4       2        5     9      5      5   \n",
       "All            70      32   24      98      28       57    44     27    112   \n",
       "\n",
       "Type 1      All  \n",
       "Generation       \n",
       "1           166  \n",
       "2           106  \n",
       "3           160  \n",
       "4           121  \n",
       "5           165  \n",
       "6            82  \n",
       "All         800  "
      ]
     },
     "execution_count": 8,
     "metadata": {},
     "output_type": "execute_result"
    }
   ],
   "source": [
    "#pivot table of Type 1 counts by Generation\n",
    "#pivot_df = pd.pivot_table(df[['Type 1', 'Generation']], index='Type 1', columns='Generation', margins=True, aggfunc=len, fill_value = 0)\n",
    "\n",
    "pivot_df = pd.pivot_table(df[['Type 1', 'Generation']], index='Generation', columns='Type 1', margins=True, aggfunc=len, fill_value = 0)\n",
    "pivot_df"
   ]
  },
  {
   "cell_type": "markdown",
   "metadata": {},
   "source": [
    "This pivot table gives us the specific counts of all Pokemon types across generation. The 'All' row shines light on the data given by the Type 1 bar chart. It's obvious here that there is a large number of water types compared to flying types. Though this pivot provides the counts of types across generation, it may be more informative to look at percentages."
   ]
  },
  {
   "cell_type": "code",
   "execution_count": 9,
   "metadata": {},
   "outputs": [
    {
     "data": {
      "text/html": [
       "<div>\n",
       "<style scoped>\n",
       "    .dataframe tbody tr th:only-of-type {\n",
       "        vertical-align: middle;\n",
       "    }\n",
       "\n",
       "    .dataframe tbody tr th {\n",
       "        vertical-align: top;\n",
       "    }\n",
       "\n",
       "    .dataframe thead th {\n",
       "        text-align: right;\n",
       "    }\n",
       "</style>\n",
       "<table border=\"1\" class=\"dataframe\">\n",
       "  <thead>\n",
       "    <tr style=\"text-align: right;\">\n",
       "      <th>Type 1</th>\n",
       "      <th>Bug</th>\n",
       "      <th>Dark</th>\n",
       "      <th>Dragon</th>\n",
       "      <th>Electric</th>\n",
       "      <th>Fairy</th>\n",
       "      <th>Fighting</th>\n",
       "      <th>Fire</th>\n",
       "      <th>Flying</th>\n",
       "      <th>Ghost</th>\n",
       "      <th>Grass</th>\n",
       "      <th>Ground</th>\n",
       "      <th>Ice</th>\n",
       "      <th>Normal</th>\n",
       "      <th>Poison</th>\n",
       "      <th>Psychic</th>\n",
       "      <th>Rock</th>\n",
       "      <th>Steel</th>\n",
       "      <th>Water</th>\n",
       "      <th>All</th>\n",
       "    </tr>\n",
       "    <tr>\n",
       "      <th>Generation</th>\n",
       "      <th></th>\n",
       "      <th></th>\n",
       "      <th></th>\n",
       "      <th></th>\n",
       "      <th></th>\n",
       "      <th></th>\n",
       "      <th></th>\n",
       "      <th></th>\n",
       "      <th></th>\n",
       "      <th></th>\n",
       "      <th></th>\n",
       "      <th></th>\n",
       "      <th></th>\n",
       "      <th></th>\n",
       "      <th></th>\n",
       "      <th></th>\n",
       "      <th></th>\n",
       "      <th></th>\n",
       "      <th></th>\n",
       "    </tr>\n",
       "  </thead>\n",
       "  <tbody>\n",
       "    <tr>\n",
       "      <th>1</th>\n",
       "      <td>8%</td>\n",
       "      <td>0%</td>\n",
       "      <td>2%</td>\n",
       "      <td>5%</td>\n",
       "      <td>1%</td>\n",
       "      <td>4%</td>\n",
       "      <td>8%</td>\n",
       "      <td>0%</td>\n",
       "      <td>2%</td>\n",
       "      <td>8%</td>\n",
       "      <td>5%</td>\n",
       "      <td>1%</td>\n",
       "      <td>14%</td>\n",
       "      <td>8%</td>\n",
       "      <td>7%</td>\n",
       "      <td>6%</td>\n",
       "      <td>0%</td>\n",
       "      <td>19%</td>\n",
       "      <td>100%</td>\n",
       "    </tr>\n",
       "    <tr>\n",
       "      <th>2</th>\n",
       "      <td>11%</td>\n",
       "      <td>6%</td>\n",
       "      <td>0%</td>\n",
       "      <td>7%</td>\n",
       "      <td>5%</td>\n",
       "      <td>2%</td>\n",
       "      <td>8%</td>\n",
       "      <td>0%</td>\n",
       "      <td>1%</td>\n",
       "      <td>8%</td>\n",
       "      <td>3%</td>\n",
       "      <td>4%</td>\n",
       "      <td>14%</td>\n",
       "      <td>1%</td>\n",
       "      <td>7%</td>\n",
       "      <td>5%</td>\n",
       "      <td>3%</td>\n",
       "      <td>17%</td>\n",
       "      <td>100%</td>\n",
       "    </tr>\n",
       "    <tr>\n",
       "      <th>3</th>\n",
       "      <td>8%</td>\n",
       "      <td>4%</td>\n",
       "      <td>8%</td>\n",
       "      <td>3%</td>\n",
       "      <td>0%</td>\n",
       "      <td>3%</td>\n",
       "      <td>5%</td>\n",
       "      <td>0%</td>\n",
       "      <td>3%</td>\n",
       "      <td>8%</td>\n",
       "      <td>4%</td>\n",
       "      <td>4%</td>\n",
       "      <td>11%</td>\n",
       "      <td>2%</td>\n",
       "      <td>8%</td>\n",
       "      <td>5%</td>\n",
       "      <td>8%</td>\n",
       "      <td>17%</td>\n",
       "      <td>100%</td>\n",
       "    </tr>\n",
       "    <tr>\n",
       "      <th>4</th>\n",
       "      <td>8%</td>\n",
       "      <td>2%</td>\n",
       "      <td>3%</td>\n",
       "      <td>10%</td>\n",
       "      <td>1%</td>\n",
       "      <td>2%</td>\n",
       "      <td>4%</td>\n",
       "      <td>0%</td>\n",
       "      <td>6%</td>\n",
       "      <td>12%</td>\n",
       "      <td>3%</td>\n",
       "      <td>2%</td>\n",
       "      <td>15%</td>\n",
       "      <td>5%</td>\n",
       "      <td>7%</td>\n",
       "      <td>5%</td>\n",
       "      <td>2%</td>\n",
       "      <td>11%</td>\n",
       "      <td>100%</td>\n",
       "    </tr>\n",
       "    <tr>\n",
       "      <th>5</th>\n",
       "      <td>11%</td>\n",
       "      <td>8%</td>\n",
       "      <td>5%</td>\n",
       "      <td>5%</td>\n",
       "      <td>0%</td>\n",
       "      <td>4%</td>\n",
       "      <td>5%</td>\n",
       "      <td>1%</td>\n",
       "      <td>3%</td>\n",
       "      <td>9%</td>\n",
       "      <td>6%</td>\n",
       "      <td>4%</td>\n",
       "      <td>12%</td>\n",
       "      <td>1%</td>\n",
       "      <td>8%</td>\n",
       "      <td>4%</td>\n",
       "      <td>2%</td>\n",
       "      <td>11%</td>\n",
       "      <td>100%</td>\n",
       "    </tr>\n",
       "    <tr>\n",
       "      <th>6</th>\n",
       "      <td>4%</td>\n",
       "      <td>4%</td>\n",
       "      <td>5%</td>\n",
       "      <td>4%</td>\n",
       "      <td>11%</td>\n",
       "      <td>4%</td>\n",
       "      <td>10%</td>\n",
       "      <td>2%</td>\n",
       "      <td>12%</td>\n",
       "      <td>6%</td>\n",
       "      <td>0%</td>\n",
       "      <td>2%</td>\n",
       "      <td>5%</td>\n",
       "      <td>2%</td>\n",
       "      <td>6%</td>\n",
       "      <td>11%</td>\n",
       "      <td>6%</td>\n",
       "      <td>6%</td>\n",
       "      <td>100%</td>\n",
       "    </tr>\n",
       "    <tr>\n",
       "      <th>All</th>\n",
       "      <td>9%</td>\n",
       "      <td>4%</td>\n",
       "      <td>4%</td>\n",
       "      <td>6%</td>\n",
       "      <td>2%</td>\n",
       "      <td>3%</td>\n",
       "      <td>6%</td>\n",
       "      <td>0%</td>\n",
       "      <td>4%</td>\n",
       "      <td>9%</td>\n",
       "      <td>4%</td>\n",
       "      <td>3%</td>\n",
       "      <td>12%</td>\n",
       "      <td>4%</td>\n",
       "      <td>7%</td>\n",
       "      <td>6%</td>\n",
       "      <td>3%</td>\n",
       "      <td>14%</td>\n",
       "      <td>100%</td>\n",
       "    </tr>\n",
       "  </tbody>\n",
       "</table>\n",
       "</div>"
      ],
      "text/plain": [
       "Type 1      Bug Dark Dragon Electric Fairy Fighting Fire Flying Ghost Grass  \\\n",
       "Generation                                                                    \n",
       "1            8%   0%     2%       5%    1%       4%   8%     0%    2%    8%   \n",
       "2           11%   6%     0%       7%    5%       2%   8%     0%    1%    8%   \n",
       "3            8%   4%     8%       3%    0%       3%   5%     0%    3%    8%   \n",
       "4            8%   2%     3%      10%    1%       2%   4%     0%    6%   12%   \n",
       "5           11%   8%     5%       5%    0%       4%   5%     1%    3%    9%   \n",
       "6            4%   4%     5%       4%   11%       4%  10%     2%   12%    6%   \n",
       "All          9%   4%     4%       6%    2%       3%   6%     0%    4%    9%   \n",
       "\n",
       "Type 1     Ground Ice Normal Poison Psychic Rock Steel Water   All  \n",
       "Generation                                                          \n",
       "1              5%  1%    14%     8%      7%   6%    0%   19%  100%  \n",
       "2              3%  4%    14%     1%      7%   5%    3%   17%  100%  \n",
       "3              4%  4%    11%     2%      8%   5%    8%   17%  100%  \n",
       "4              3%  2%    15%     5%      7%   5%    2%   11%  100%  \n",
       "5              6%  4%    12%     1%      8%   4%    2%   11%  100%  \n",
       "6              0%  2%     5%     2%      6%  11%    6%    6%  100%  \n",
       "All            4%  3%    12%     4%      7%   6%    3%   14%  100%  "
      ]
     },
     "execution_count": 9,
     "metadata": {},
     "output_type": "execute_result"
    }
   ],
   "source": [
    "#Pivot Table Percentages\n",
    "pivot_df.div(pivot_df.iloc[:,-1], axis=0).applymap(lambda x: \"{0:.0f}%\".format(100*x))"
   ]
  },
  {
   "cell_type": "code",
   "execution_count": 10,
   "metadata": {},
   "outputs": [],
   "source": [
    "#Stacked Bar Chart of Type 1 by Generation\n",
    "#pivot_df.plot(kind='bar', stacked=True)"
   ]
  },
  {
   "cell_type": "markdown",
   "metadata": {},
   "source": [
    "With the exception of the 6th generation, Water and Normal types account for more than 10% of types across generations. However, flying types are at 0% up until the 4th generation. Even then, flying types only represent 1% or 2% of types for the 5th and 6th generation respectively. \n",
    "\n",
    "_Note that we only examined Type 1. It is possible that flying tends to be more of a secondary type, which would be interesting to investigate further._\n",
    "\n",
    "### 2) How powerful are these Pokemon? Are there differences by type?\n",
    "\n",
    "To answer this question, we will look at Total by Type 1."
   ]
  },
  {
   "cell_type": "code",
   "execution_count": 11,
   "metadata": {},
   "outputs": [
    {
     "data": {
      "image/png": "[encoded data removed]",
      "text/plain": [
       "<matplotlib.figure.Figure at 0x1a0d952048>"
      ]
     },
     "metadata": {},
     "output_type": "display_data"
    }
   ],
   "source": [
    "#interquartile range of Total by Type 1\n",
    "#df.boxplot(column = 'Total', by = 'Type 1' )\n",
    "#plt.xticks(rotation=90)\n",
    "#plt.xlabel('Type 1')\n",
    "#plt.ylabel('Total')\n",
    "sns.boxplot(x='Type 1', y='Total', data=df)\n",
    "plt.xticks(rotation=90);"
   ]
  },
  {
   "cell_type": "markdown",
   "metadata": {},
   "source": [
    "There seems to be an strong outlier for water types and a weak outlier for flying types. However, the lower quartile is highest for flying types. \n",
    "\n",
    "The upper whisker is higher for dragon, psychic, and ground types. Could these be due to legendary Pokemon?"
   ]
  },
  {
   "cell_type": "markdown",
   "metadata": {},
   "source": [
    "### 3) How many Legendary Pokemon are there in relation to all Pokemon? Just how powerful are these Legendary Pokemon?"
   ]
  },
  {
   "cell_type": "code",
   "execution_count": 12,
   "metadata": {},
   "outputs": [
    {
     "data": {
      "text/plain": [
       "False    735\n",
       "True      65\n",
       "Name: Legendary, dtype: int64"
      ]
     },
     "execution_count": 12,
     "metadata": {},
     "output_type": "execute_result"
    }
   ],
   "source": [
    "df['Legendary'].value_counts(sort=True)"
   ]
  },
  {
   "cell_type": "code",
   "execution_count": 13,
   "metadata": {},
   "outputs": [
    {
     "data": {
      "text/plain": [
       "9.015256588072122"
      ]
     },
     "execution_count": 13,
     "metadata": {},
     "output_type": "execute_result"
    }
   ],
   "source": [
    "(65 / 721) * 100"
   ]
  },
  {
   "cell_type": "markdown",
   "metadata": {},
   "source": [
    "Only 65 (9%) of all Pokemon are Legendary. Which generation has more Legendary Pokemon?"
   ]
  },
  {
   "cell_type": "code",
   "execution_count": 14,
   "metadata": {},
   "outputs": [],
   "source": [
    "#sns.countplot(x='Generation', hue=\"Legendary\", data=df)\n",
    "#plt.show()"
   ]
  },
  {
   "cell_type": "code",
   "execution_count": 15,
   "metadata": {},
   "outputs": [
    {
     "data": {
      "text/plain": [
       "<matplotlib.axes._subplots.AxesSubplot at 0x1a1692dac8>"
      ]
     },
     "execution_count": 15,
     "metadata": {},
     "output_type": "execute_result"
    },
    {
     "data": {
      "image/png": "[encoded data removed]",
      "text/plain": [
       "<matplotlib.figure.Figure at 0x1a169f2780>"
      ]
     },
     "metadata": {},
     "output_type": "display_data"
    }
   ],
   "source": [
    "#Stacked Bar Chart of Legendary by Generation\n",
    "pivot_df2 = pd.pivot_table(df[['Legendary', 'Generation']], index='Generation', columns='Legendary', aggfunc=len, fill_value = 0)\n",
    "pivot_df2.plot(kind='bar', stacked=True)"
   ]
  },
  {
   "cell_type": "markdown",
   "metadata": {},
   "source": [
    "There seem to be more legendaries in the 3rd and 5th generations. Are Legendaries more powerful than those that aren't? "
   ]
  },
  {
   "cell_type": "code",
   "execution_count": 16,
   "metadata": {},
   "outputs": [
    {
     "data": {
      "text/html": [
       "<div>\n",
       "<style scoped>\n",
       "    .dataframe tbody tr th:only-of-type {\n",
       "        vertical-align: middle;\n",
       "    }\n",
       "\n",
       "    .dataframe tbody tr th {\n",
       "        vertical-align: top;\n",
       "    }\n",
       "\n",
       "    .dataframe thead th {\n",
       "        text-align: right;\n",
       "    }\n",
       "</style>\n",
       "<table border=\"1\" class=\"dataframe\">\n",
       "  <thead>\n",
       "    <tr style=\"text-align: right;\">\n",
       "      <th></th>\n",
       "      <th>Legendary</th>\n",
       "      <th>False</th>\n",
       "      <th>True</th>\n",
       "    </tr>\n",
       "  </thead>\n",
       "  <tbody>\n",
       "    <tr>\n",
       "      <th rowspan=\"8\" valign=\"top\">Total</th>\n",
       "      <th>count</th>\n",
       "      <td>735.000000</td>\n",
       "      <td>65.000000</td>\n",
       "    </tr>\n",
       "    <tr>\n",
       "      <th>mean</th>\n",
       "      <td>417.213605</td>\n",
       "      <td>637.384615</td>\n",
       "    </tr>\n",
       "    <tr>\n",
       "      <th>std</th>\n",
       "      <td>106.760417</td>\n",
       "      <td>60.937389</td>\n",
       "    </tr>\n",
       "    <tr>\n",
       "      <th>min</th>\n",
       "      <td>180.000000</td>\n",
       "      <td>580.000000</td>\n",
       "    </tr>\n",
       "    <tr>\n",
       "      <th>25%</th>\n",
       "      <td>324.000000</td>\n",
       "      <td>580.000000</td>\n",
       "    </tr>\n",
       "    <tr>\n",
       "      <th>50%</th>\n",
       "      <td>425.000000</td>\n",
       "      <td>600.000000</td>\n",
       "    </tr>\n",
       "    <tr>\n",
       "      <th>75%</th>\n",
       "      <td>498.000000</td>\n",
       "      <td>680.000000</td>\n",
       "    </tr>\n",
       "    <tr>\n",
       "      <th>max</th>\n",
       "      <td>700.000000</td>\n",
       "      <td>780.000000</td>\n",
       "    </tr>\n",
       "  </tbody>\n",
       "</table>\n",
       "</div>"
      ],
      "text/plain": [
       "Legendary         False       True \n",
       "Total count  735.000000   65.000000\n",
       "      mean   417.213605  637.384615\n",
       "      std    106.760417   60.937389\n",
       "      min    180.000000  580.000000\n",
       "      25%    324.000000  580.000000\n",
       "      50%    425.000000  600.000000\n",
       "      75%    498.000000  680.000000\n",
       "      max    700.000000  780.000000"
      ]
     },
     "execution_count": 16,
     "metadata": {},
     "output_type": "execute_result"
    }
   ],
   "source": [
    "df[['Legendary', 'Total']].groupby('Legendary').describe().transpose()"
   ]
  },
  {
   "cell_type": "markdown",
   "metadata": {},
   "source": [
    "It looks like there's a huge difference between the means, mins, interquartiles ranges, and maxes between Pokemon that are legendary and those that aren't. "
   ]
  },
  {
   "cell_type": "code",
   "execution_count": 17,
   "metadata": {},
   "outputs": [
    {
     "data": {
      "text/plain": [
       "0.5017583833882712"
      ]
     },
     "execution_count": 17,
     "metadata": {},
     "output_type": "execute_result"
    }
   ],
   "source": [
    "df['Legendary'].corr(df['Total'])"
   ]
  },
  {
   "cell_type": "markdown",
   "metadata": {},
   "source": [
    "There seems to be a moderate correlation between Legendary Pokemon and Totals."
   ]
  }
 ],
 "metadata": {
  "kernelspec": {
   "display_name": "Python 3",
   "language": "python",
   "name": "python3"
  },
  "language_info": {
   "codemirror_mode": {
    "name": "ipython",
    "version": 3
   },
   "file_extension": ".py",
   "mimetype": "text/x-python",
   "name": "python",
   "nbconvert_exporter": "python",
   "pygments_lexer": "ipython3",
   "version": "3.6.4"
  }
 },
 "nbformat": 4,
 "nbformat_minor": 2
}
